{
  "nbformat": 4,
  "nbformat_minor": 0,
  "metadata": {
    "colab": {
      "name": "Untitled3.ipynb",
      "provenance": []
    },
    "kernelspec": {
      "name": "python3",
      "display_name": "Python 3"
    },
    "language_info": {
      "name": "python"
    }
  },
  "cells": [
    {
      "cell_type": "code",
      "execution_count": 1,
      "metadata": {
        "id": "dwDeTekWaa-r"
      },
      "outputs": [],
      "source": [
        "from tensorflow import keras\n",
        "import cv2\n",
        "import tensorflow as tf\n",
        "import numpy as np\n",
        "import matplotlib.pyplot as plt\n",
        "\n",
        "\n",
        "model = keras.models.load_model('/content/model.h5')"
      ]
    },
    {
      "cell_type": "code",
      "source": [
        "classes = ['A','B','C','D','E','F','G','H','I','J','K','L','M','N','O','P','Q','R','S','T','U','V','W','X','Y','Z','a','b','d','e','f','g','h','n','q','r','t','1','2','3','4','5','6','7']"
      ],
      "metadata": {
        "id": "Yeh_hzsRaeXI"
      },
      "execution_count": 2,
      "outputs": []
    },
    {
      "cell_type": "code",
      "source": [
        "model.summary()"
      ],
      "metadata": {
        "id": "65JBR-c6atoz",
        "colab": {
          "base_uri": "https://localhost:8080/"
        },
        "outputId": "9d3bce56-8979-48ea-e73f-f48c7ce14eeb"
      },
      "execution_count": 3,
      "outputs": [
        {
          "output_type": "stream",
          "name": "stdout",
          "text": [
            "Model: \"sequential_1\"\n",
            "_________________________________________________________________\n",
            " Layer (type)                Output Shape              Param #   \n",
            "=================================================================\n",
            " conv2d_2 (Conv2D)           (None, 26, 26, 32)        320       \n",
            "                                                                 \n",
            " max_pooling2d_2 (MaxPooling  (None, 13, 13, 32)       0         \n",
            " 2D)                                                             \n",
            "                                                                 \n",
            " conv2d_3 (Conv2D)           (None, 11, 11, 64)        18496     \n",
            "                                                                 \n",
            " max_pooling2d_3 (MaxPooling  (None, 5, 5, 64)         0         \n",
            " 2D)                                                             \n",
            "                                                                 \n",
            " flatten_1 (Flatten)         (None, 1600)              0         \n",
            "                                                                 \n",
            " dense_3 (Dense)             (None, 512)               819712    \n",
            "                                                                 \n",
            " dense_4 (Dense)             (None, 128)               65664     \n",
            "                                                                 \n",
            " dense_5 (Dense)             (None, 44)                5676      \n",
            "                                                                 \n",
            "=================================================================\n",
            "Total params: 909,868\n",
            "Trainable params: 909,868\n",
            "Non-trainable params: 0\n",
            "_________________________________________________________________\n"
          ]
        }
      ]
    },
    {
      "cell_type": "code",
      "source": [
        "import cv2\n",
        "import numpy as np\n",
        "%pylab inline\n",
        "import matplotlib.pyplot as plt\n",
        "import matplotlib.image as mpimg"
      ],
      "metadata": {
        "id": "NIG8MpI_aynL",
        "colab": {
          "base_uri": "https://localhost:8080/"
        },
        "outputId": "9000df57-1e8e-4714-bf3e-e2fa9778e273"
      },
      "execution_count": 5,
      "outputs": [
        {
          "output_type": "stream",
          "name": "stdout",
          "text": [
            "Populating the interactive namespace from numpy and matplotlib\n"
          ]
        }
      ]
    },
    {
      "cell_type": "code",
      "source": [
        "show_img  = cv2.imread('/content/123.jpeg')\n",
        "plt.imshow(show_img)"
      ],
      "metadata": {
        "id": "yBuNFKmScR-9",
        "colab": {
          "base_uri": "https://localhost:8080/",
          "height": 171
        },
        "outputId": "fa8aaad0-df39-4df8-a188-dd045fbfac61"
      },
      "execution_count": 7,
      "outputs": [
        {
          "output_type": "execute_result",
          "data": {
            "text/plain": [
              "<matplotlib.image.AxesImage at 0x7f1543092ed0>"
            ]
          },
          "metadata": {},
          "execution_count": 7
        },
        {
          "output_type": "display_data",
          "data": {
            "text/plain": [
              "<Figure size 432x288 with 1 Axes>"
            ],
            "image/png": "[encoded data removed]"
          },
          "metadata": {
            "needs_background": "light"
          }
        }
      ]
    },
    {
      "cell_type": "code",
      "source": [
        "from google.colab import drive\n",
        "drive.mount('/content/drive')"
      ],
      "metadata": {
        "colab": {
          "base_uri": "https://localhost:8080/"
        },
        "id": "JnP9uRJJc3kf",
        "outputId": "f9761971-e458-4ed0-d976-4bde8e704bbe"
      },
      "execution_count": 8,
      "outputs": [
        {
          "output_type": "stream",
          "name": "stdout",
          "text": [
            "Drive already mounted at /content/drive; to attempt to forcibly remount, call drive.mount(\"/content/drive\", force_remount=True).\n"
          ]
        }
      ]
    },
    {
      "cell_type": "code",
      "source": [
        "img=cv2.imread('/content/123.jpeg')\n",
        "imgray=cv2.cvtColor(img,cv2.COLOR_BGR2GRAY)\n",
        "ret,thresh=cv2.threshold(imgray,127,255,0)\n",
        "contours,hierarchy=cv2.findContours(thresh,cv2.RETR_TREE,cv2.CHAIN_APPROX_NONE)\n",
        "\n",
        "x_a = []\n",
        "y_a = []\n",
        "for contour in contours:\n",
        "    (x,y, w, h) = cv2.boundingRect(contour)\n",
        "    if cv2.contourArea(contour) < 500:\n",
        "        continue\n",
        "    else:\n",
        "        #cv2.rectangle(img,(x-30,y-30),(x+w+60,y+h+60),(0,255,0), 2)\n",
        "        new_img=img[y-30:y+h+60,x-30:x+w+30]\n",
        "        np_img = new_img.flatten()\n",
        "        #img_new = cv2.resize(new_img,(28,28))\n",
        "        np_img = new_img.flatten()\n",
        "        x_a.append(new_img)\n",
        "        y_a.append(x)\n"
      ],
      "metadata": {
        "id": "pVHI-zCWa-_3"
      },
      "execution_count": 9,
      "outputs": []
    },
    {
      "cell_type": "code",
      "source": [
        "del x_a[0]\n",
        "del y_a[0]\n",
        "final = list(zip(x_a,y_a))\n",
        "print(len(final))\n",
        "def Sort(sub_li):\n",
        "    sub_li.sort(key = lambda x: x[1])\n",
        "    return sub_li\n",
        "sorted_final = Sort(final)\n",
        "for i in range(len(x_a)):\n",
        "  print(sorted_final[i][1])\n",
        "ls= []\n",
        "for j in range(len(x_a)-1):\n",
        "  if sorted_final[j+1][1]-sorted_final[j][1]<=50:\n",
        "    ls.append(j+1)\n",
        "l = len(ls)\n",
        "x = 0    \n",
        "for i in range(l):\n",
        "  del sorted_final[ls[i] - x]\n",
        "  x = x+1\n",
        "print(\"\\n\")\n",
        "for i in range(len(sorted_final)):\n",
        "  print(sorted_final[i][1])"
      ],
      "metadata": {
        "id": "vdxmY4BMbDRG",
        "colab": {
          "base_uri": "https://localhost:8080/"
        },
        "outputId": "6e829357-ad8a-43bd-9a3e-8005400f826b"
      },
      "execution_count": 10,
      "outputs": [
        {
          "output_type": "stream",
          "name": "stdout",
          "text": [
            "7\n",
            "70\n",
            "110\n",
            "214\n",
            "328\n",
            "492\n",
            "630\n",
            "674\n",
            "\n",
            "\n",
            "70\n",
            "214\n",
            "328\n",
            "492\n",
            "630\n"
          ]
        }
      ]
    },
    {
      "cell_type": "code",
      "source": [
        "for i in range(len(sorted_final)):  \n",
        "  \n",
        "  img= sorted_final[i][0]\n",
        "  img_grey = cv2.cvtColor(img, cv2.COLOR_BGR2GRAY)\n",
        "  thresh2 = cv2.threshold(img_grey, 120, 255, cv2.THRESH_OTSU + cv2.THRESH_BINARY_INV)[1] \n",
        "  thresh2 = cv2.erode(thresh2,(40,40))\n",
        "  old_size = thresh2.shape[:2] # old_size is in (height, width) format\n",
        "  desired_size = 300\n",
        "  ratio = float(desired_size)/max(old_size)\n",
        "  new_size = tuple([int(x*ratio) for x in old_size])\n",
        "\n",
        "  # new_size should be in (width, height) format\n",
        "\n",
        "  im = cv2.resize(thresh2, (new_size[1], new_size[0]))\n",
        "\n",
        "  delta_w = desired_size - new_size[1]\n",
        "  delta_h = desired_size - new_size[0]\n",
        "  top, bottom = delta_h//2, delta_h-(delta_h//2)\n",
        "  left, right = delta_w//2, delta_w-(delta_w//2)\n",
        "\n",
        "  color = [0, 0,0]\n",
        "  new_im = cv2.copyMakeBorder(im, top, bottom, left, right, cv2.BORDER_CONSTANT,\n",
        "    value=color)\n",
        "  blur = cv2.GaussianBlur(new_im,(3,3),0)\n",
        "  blur[blur>5] = 255\n",
        "  blur2 = cv2.GaussianBlur(blur,(3,3),0.5)\n",
        "  img_f = cv2.GaussianBlur(blur2,(3,3),0)\n",
        "  #nimg = cv2.dilate(nimg,(5,5))\n",
        "  img_f = cv2.resize(img_f,(28,28))\n",
        "  img_f[img_f>5] = 255\n",
        "  img_f = cv2.GaussianBlur(img_f,(3,3),0.5)\n",
        "\n",
        "\n",
        "  #plt.imshow(img_f,cmap='gray')\n",
        "  IMG_SIZE=28\n",
        "  img_final = img_f.reshape(1,IMG_SIZE,IMG_SIZE,1)\n",
        "  img_final = img_final/150\n",
        "  print(classes[np.argmax(model.predict(img_final))],end = ' ')\n"
      ],
      "metadata": {
        "id": "jjfZydEfbIXd",
        "colab": {
          "base_uri": "https://localhost:8080/"
        },
        "outputId": "113a81e2-fdb2-4b9f-faec-e52f74999bc9"
      },
      "execution_count": 11,
      "outputs": [
        {
          "output_type": "stream",
          "name": "stdout",
          "text": [
            "A 3 1 C 7 "
          ]
        }
      ]
    }
  ]
}