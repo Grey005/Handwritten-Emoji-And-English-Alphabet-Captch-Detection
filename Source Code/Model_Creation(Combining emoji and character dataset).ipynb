{
  "cells": [
    {
      "cell_type": "code",
      "execution_count": null,
      "metadata": {
        "id": "tx_o5aWu9Hcq"
      },
      "outputs": [],
      "source": [
        "import numpy as np\n",
        "import cv2\n",
        "import pandas as pd\n",
        "import tensorflow as tf\n",
        "from numpy.random import RandomState"
      ]
    },
    {
      "cell_type": "code",
      "execution_count": null,
      "metadata": {
        "id": "qqEUPrCY9-1l"
      },
      "outputs": [],
      "source": [
        "df_2 = pd.read_csv('/content/drive/MyDrive/emnist-balanced-train.csv')\n",
        "df_t2 = pd.read_csv('/content/drive/MyDrive/emnist-balanced-test.csv')"
      ]
    },
    {
      "cell_type": "code",
      "source": [
        "from google.colab import drive\n",
        "drive.mount('/content/drive')"
      ],
      "metadata": {
        "colab": {
          "base_uri": "https://localhost:8080/"
        },
        "id": "y-7-1fpv1-ey",
        "outputId": "d5a9a861-2573-4680-a3ed-80a49bf30ce8"
      },
      "execution_count": null,
      "outputs": [
        {
          "output_type": "stream",
          "name": "stdout",
          "text": [
            "Drive already mounted at /content/drive; to attempt to forcibly remount, call drive.mount(\"/content/drive\", force_remount=True).\n"
          ]
        }
      ]
    },
    {
      "cell_type": "code",
      "execution_count": null,
      "metadata": {
        "colab": {
          "base_uri": "https://localhost:8080/"
        },
        "id": "9uv8Ru1xwkzr",
        "outputId": "fd0045fe-e80b-4dca-9243-fd89cf8645a8"
      },
      "outputs": [
        {
          "output_type": "stream",
          "name": "stdout",
          "text": [
            "['Label', 'pixel_1', 'pixel_2', 'pixel_3', 'pixel_4', 'pixel_5', 'pixel_6', 'pixel_7', 'pixel_8', 'pixel_9', 'pixel_10', 'pixel_11', 'pixel_12', 'pixel_13', 'pixel_14', 'pixel_15', 'pixel_16', 'pixel_17', 'pixel_18', 'pixel_19', 'pixel_20', 'pixel_21', 'pixel_22', 'pixel_23', 'pixel_24', 'pixel_25', 'pixel_26', 'pixel_27', 'pixel_28', 'pixel_29', 'pixel_30', 'pixel_31', 'pixel_32', 'pixel_33', 'pixel_34', 'pixel_35', 'pixel_36', 'pixel_37', 'pixel_38', 'pixel_39', 'pixel_40', 'pixel_41', 'pixel_42', 'pixel_43', 'pixel_44', 'pixel_45', 'pixel_46', 'pixel_47', 'pixel_48', 'pixel_49', 'pixel_50', 'pixel_51', 'pixel_52', 'pixel_53', 'pixel_54', 'pixel_55', 'pixel_56', 'pixel_57', 'pixel_58', 'pixel_59', 'pixel_60', 'pixel_61', 'pixel_62', 'pixel_63', 'pixel_64', 'pixel_65', 'pixel_66', 'pixel_67', 'pixel_68', 'pixel_69', 'pixel_70', 'pixel_71', 'pixel_72', 'pixel_73', 'pixel_74', 'pixel_75', 'pixel_76', 'pixel_77', 'pixel_78', 'pixel_79', 'pixel_80', 'pixel_81', 'pixel_82', 'pixel_83', 'pixel_84', 'pixel_85', 'pixel_86', 'pixel_87', 'pixel_88', 'pixel_89', 'pixel_90', 'pixel_91', 'pixel_92', 'pixel_93', 'pixel_94', 'pixel_95', 'pixel_96', 'pixel_97', 'pixel_98', 'pixel_99', 'pixel_100', 'pixel_101', 'pixel_102', 'pixel_103', 'pixel_104', 'pixel_105', 'pixel_106', 'pixel_107', 'pixel_108', 'pixel_109', 'pixel_110', 'pixel_111', 'pixel_112', 'pixel_113', 'pixel_114', 'pixel_115', 'pixel_116', 'pixel_117', 'pixel_118', 'pixel_119', 'pixel_120', 'pixel_121', 'pixel_122', 'pixel_123', 'pixel_124', 'pixel_125', 'pixel_126', 'pixel_127', 'pixel_128', 'pixel_129', 'pixel_130', 'pixel_131', 'pixel_132', 'pixel_133', 'pixel_134', 'pixel_135', 'pixel_136', 'pixel_137', 'pixel_138', 'pixel_139', 'pixel_140', 'pixel_141', 'pixel_142', 'pixel_143', 'pixel_144', 'pixel_145', 'pixel_146', 'pixel_147', 'pixel_148', 'pixel_149', 'pixel_150', 'pixel_151', 'pixel_152', 'pixel_153', 'pixel_154', 'pixel_155', 'pixel_156', 'pixel_157', 'pixel_158', 'pixel_159', 'pixel_160', 'pixel_161', 'pixel_162', 'pixel_163', 'pixel_164', 'pixel_165', 'pixel_166', 'pixel_167', 'pixel_168', 'pixel_169', 'pixel_170', 'pixel_171', 'pixel_172', 'pixel_173', 'pixel_174', 'pixel_175', 'pixel_176', 'pixel_177', 'pixel_178', 'pixel_179', 'pixel_180', 'pixel_181', 'pixel_182', 'pixel_183', 'pixel_184', 'pixel_185', 'pixel_186', 'pixel_187', 'pixel_188', 'pixel_189', 'pixel_190', 'pixel_191', 'pixel_192', 'pixel_193', 'pixel_194', 'pixel_195', 'pixel_196', 'pixel_197', 'pixel_198', 'pixel_199', 'pixel_200', 'pixel_201', 'pixel_202', 'pixel_203', 'pixel_204', 'pixel_205', 'pixel_206', 'pixel_207', 'pixel_208', 'pixel_209', 'pixel_210', 'pixel_211', 'pixel_212', 'pixel_213', 'pixel_214', 'pixel_215', 'pixel_216', 'pixel_217', 'pixel_218', 'pixel_219', 'pixel_220', 'pixel_221', 'pixel_222', 'pixel_223', 'pixel_224', 'pixel_225', 'pixel_226', 'pixel_227', 'pixel_228', 'pixel_229', 'pixel_230', 'pixel_231', 'pixel_232', 'pixel_233', 'pixel_234', 'pixel_235', 'pixel_236', 'pixel_237', 'pixel_238', 'pixel_239', 'pixel_240', 'pixel_241', 'pixel_242', 'pixel_243', 'pixel_244', 'pixel_245', 'pixel_246', 'pixel_247', 'pixel_248', 'pixel_249', 'pixel_250', 'pixel_251', 'pixel_252', 'pixel_253', 'pixel_254', 'pixel_255', 'pixel_256', 'pixel_257', 'pixel_258', 'pixel_259', 'pixel_260', 'pixel_261', 'pixel_262', 'pixel_263', 'pixel_264', 'pixel_265', 'pixel_266', 'pixel_267', 'pixel_268', 'pixel_269', 'pixel_270', 'pixel_271', 'pixel_272', 'pixel_273', 'pixel_274', 'pixel_275', 'pixel_276', 'pixel_277', 'pixel_278', 'pixel_279', 'pixel_280', 'pixel_281', 'pixel_282', 'pixel_283', 'pixel_284', 'pixel_285', 'pixel_286', 'pixel_287', 'pixel_288', 'pixel_289', 'pixel_290', 'pixel_291', 'pixel_292', 'pixel_293', 'pixel_294', 'pixel_295', 'pixel_296', 'pixel_297', 'pixel_298', 'pixel_299', 'pixel_300', 'pixel_301', 'pixel_302', 'pixel_303', 'pixel_304', 'pixel_305', 'pixel_306', 'pixel_307', 'pixel_308', 'pixel_309', 'pixel_310', 'pixel_311', 'pixel_312', 'pixel_313', 'pixel_314', 'pixel_315', 'pixel_316', 'pixel_317', 'pixel_318', 'pixel_319', 'pixel_320', 'pixel_321', 'pixel_322', 'pixel_323', 'pixel_324', 'pixel_325', 'pixel_326', 'pixel_327', 'pixel_328', 'pixel_329', 'pixel_330', 'pixel_331', 'pixel_332', 'pixel_333', 'pixel_334', 'pixel_335', 'pixel_336', 'pixel_337', 'pixel_338', 'pixel_339', 'pixel_340', 'pixel_341', 'pixel_342', 'pixel_343', 'pixel_344', 'pixel_345', 'pixel_346', 'pixel_347', 'pixel_348', 'pixel_349', 'pixel_350', 'pixel_351', 'pixel_352', 'pixel_353', 'pixel_354', 'pixel_355', 'pixel_356', 'pixel_357', 'pixel_358', 'pixel_359', 'pixel_360', 'pixel_361', 'pixel_362', 'pixel_363', 'pixel_364', 'pixel_365', 'pixel_366', 'pixel_367', 'pixel_368', 'pixel_369', 'pixel_370', 'pixel_371', 'pixel_372', 'pixel_373', 'pixel_374', 'pixel_375', 'pixel_376', 'pixel_377', 'pixel_378', 'pixel_379', 'pixel_380', 'pixel_381', 'pixel_382', 'pixel_383', 'pixel_384', 'pixel_385', 'pixel_386', 'pixel_387', 'pixel_388', 'pixel_389', 'pixel_390', 'pixel_391', 'pixel_392', 'pixel_393', 'pixel_394', 'pixel_395', 'pixel_396', 'pixel_397', 'pixel_398', 'pixel_399', 'pixel_400', 'pixel_401', 'pixel_402', 'pixel_403', 'pixel_404', 'pixel_405', 'pixel_406', 'pixel_407', 'pixel_408', 'pixel_409', 'pixel_410', 'pixel_411', 'pixel_412', 'pixel_413', 'pixel_414', 'pixel_415', 'pixel_416', 'pixel_417', 'pixel_418', 'pixel_419', 'pixel_420', 'pixel_421', 'pixel_422', 'pixel_423', 'pixel_424', 'pixel_425', 'pixel_426', 'pixel_427', 'pixel_428', 'pixel_429', 'pixel_430', 'pixel_431', 'pixel_432', 'pixel_433', 'pixel_434', 'pixel_435', 'pixel_436', 'pixel_437', 'pixel_438', 'pixel_439', 'pixel_440', 'pixel_441', 'pixel_442', 'pixel_443', 'pixel_444', 'pixel_445', 'pixel_446', 'pixel_447', 'pixel_448', 'pixel_449', 'pixel_450', 'pixel_451', 'pixel_452', 'pixel_453', 'pixel_454', 'pixel_455', 'pixel_456', 'pixel_457', 'pixel_458', 'pixel_459', 'pixel_460', 'pixel_461', 'pixel_462', 'pixel_463', 'pixel_464', 'pixel_465', 'pixel_466', 'pixel_467', 'pixel_468', 'pixel_469', 'pixel_470', 'pixel_471', 'pixel_472', 'pixel_473', 'pixel_474', 'pixel_475', 'pixel_476', 'pixel_477', 'pixel_478', 'pixel_479', 'pixel_480', 'pixel_481', 'pixel_482', 'pixel_483', 'pixel_484', 'pixel_485', 'pixel_486', 'pixel_487', 'pixel_488', 'pixel_489', 'pixel_490', 'pixel_491', 'pixel_492', 'pixel_493', 'pixel_494', 'pixel_495', 'pixel_496', 'pixel_497', 'pixel_498', 'pixel_499', 'pixel_500', 'pixel_501', 'pixel_502', 'pixel_503', 'pixel_504', 'pixel_505', 'pixel_506', 'pixel_507', 'pixel_508', 'pixel_509', 'pixel_510', 'pixel_511', 'pixel_512', 'pixel_513', 'pixel_514', 'pixel_515', 'pixel_516', 'pixel_517', 'pixel_518', 'pixel_519', 'pixel_520', 'pixel_521', 'pixel_522', 'pixel_523', 'pixel_524', 'pixel_525', 'pixel_526', 'pixel_527', 'pixel_528', 'pixel_529', 'pixel_530', 'pixel_531', 'pixel_532', 'pixel_533', 'pixel_534', 'pixel_535', 'pixel_536', 'pixel_537', 'pixel_538', 'pixel_539', 'pixel_540', 'pixel_541', 'pixel_542', 'pixel_543', 'pixel_544', 'pixel_545', 'pixel_546', 'pixel_547', 'pixel_548', 'pixel_549', 'pixel_550', 'pixel_551', 'pixel_552', 'pixel_553', 'pixel_554', 'pixel_555', 'pixel_556', 'pixel_557', 'pixel_558', 'pixel_559', 'pixel_560', 'pixel_561', 'pixel_562', 'pixel_563', 'pixel_564', 'pixel_565', 'pixel_566', 'pixel_567', 'pixel_568', 'pixel_569', 'pixel_570', 'pixel_571', 'pixel_572', 'pixel_573', 'pixel_574', 'pixel_575', 'pixel_576', 'pixel_577', 'pixel_578', 'pixel_579', 'pixel_580', 'pixel_581', 'pixel_582', 'pixel_583', 'pixel_584', 'pixel_585', 'pixel_586', 'pixel_587', 'pixel_588', 'pixel_589', 'pixel_590', 'pixel_591', 'pixel_592', 'pixel_593', 'pixel_594', 'pixel_595', 'pixel_596', 'pixel_597', 'pixel_598', 'pixel_599', 'pixel_600', 'pixel_601', 'pixel_602', 'pixel_603', 'pixel_604', 'pixel_605', 'pixel_606', 'pixel_607', 'pixel_608', 'pixel_609', 'pixel_610', 'pixel_611', 'pixel_612', 'pixel_613', 'pixel_614', 'pixel_615', 'pixel_616', 'pixel_617', 'pixel_618', 'pixel_619', 'pixel_620', 'pixel_621', 'pixel_622', 'pixel_623', 'pixel_624', 'pixel_625', 'pixel_626', 'pixel_627', 'pixel_628', 'pixel_629', 'pixel_630', 'pixel_631', 'pixel_632', 'pixel_633', 'pixel_634', 'pixel_635', 'pixel_636', 'pixel_637', 'pixel_638', 'pixel_639', 'pixel_640', 'pixel_641', 'pixel_642', 'pixel_643', 'pixel_644', 'pixel_645', 'pixel_646', 'pixel_647', 'pixel_648', 'pixel_649', 'pixel_650', 'pixel_651', 'pixel_652', 'pixel_653', 'pixel_654', 'pixel_655', 'pixel_656', 'pixel_657', 'pixel_658', 'pixel_659', 'pixel_660', 'pixel_661', 'pixel_662', 'pixel_663', 'pixel_664', 'pixel_665', 'pixel_666', 'pixel_667', 'pixel_668', 'pixel_669', 'pixel_670', 'pixel_671', 'pixel_672', 'pixel_673', 'pixel_674', 'pixel_675', 'pixel_676', 'pixel_677', 'pixel_678', 'pixel_679', 'pixel_680', 'pixel_681', 'pixel_682', 'pixel_683', 'pixel_684', 'pixel_685', 'pixel_686', 'pixel_687', 'pixel_688', 'pixel_689', 'pixel_690', 'pixel_691', 'pixel_692', 'pixel_693', 'pixel_694', 'pixel_695', 'pixel_696', 'pixel_697', 'pixel_698', 'pixel_699', 'pixel_700', 'pixel_701', 'pixel_702', 'pixel_703', 'pixel_704', 'pixel_705', 'pixel_706', 'pixel_707', 'pixel_708', 'pixel_709', 'pixel_710', 'pixel_711', 'pixel_712', 'pixel_713', 'pixel_714', 'pixel_715', 'pixel_716', 'pixel_717', 'pixel_718', 'pixel_719', 'pixel_720', 'pixel_721', 'pixel_722', 'pixel_723', 'pixel_724', 'pixel_725', 'pixel_726', 'pixel_727', 'pixel_728', 'pixel_729', 'pixel_730', 'pixel_731', 'pixel_732', 'pixel_733', 'pixel_734', 'pixel_735', 'pixel_736', 'pixel_737', 'pixel_738', 'pixel_739', 'pixel_740', 'pixel_741', 'pixel_742', 'pixel_743', 'pixel_744', 'pixel_745', 'pixel_746', 'pixel_747', 'pixel_748', 'pixel_749', 'pixel_750', 'pixel_751', 'pixel_752', 'pixel_753', 'pixel_754', 'pixel_755', 'pixel_756', 'pixel_757', 'pixel_758', 'pixel_759', 'pixel_760', 'pixel_761', 'pixel_762', 'pixel_763', 'pixel_764', 'pixel_765', 'pixel_766', 'pixel_767', 'pixel_768', 'pixel_769', 'pixel_770', 'pixel_771', 'pixel_772', 'pixel_773', 'pixel_774', 'pixel_775', 'pixel_776', 'pixel_777', 'pixel_778', 'pixel_779', 'pixel_780', 'pixel_781', 'pixel_782', 'pixel_783', 'pixel_784']\n"
          ]
        }
      ],
      "source": [
        "lst = ['Label']\n",
        "for i in range(0,784):\n",
        "  x = 'pixel_'\n",
        "  x = x + str(i+1)\n",
        "  lst.append(x)\n",
        "print(lst)"
      ]
    },
    {
      "cell_type": "code",
      "execution_count": null,
      "metadata": {
        "id": "60nVM7gqwn8k"
      },
      "outputs": [],
      "source": [
        "df_2.columns = lst\n",
        "df_t2.columns = lst"
      ]
    },
    {
      "cell_type": "code",
      "execution_count": null,
      "metadata": {
        "colab": {
          "base_uri": "https://localhost:8080/"
        },
        "id": "Ld8Cq3wYwtX3",
        "outputId": "36102816-932d-4b83-b2bc-863aedba8ecc"
      },
      "outputs": [
        {
          "output_type": "execute_result",
          "data": {
            "text/plain": [
              "46"
            ]
          },
          "metadata": {},
          "execution_count": 219
        }
      ],
      "source": [
        "df_2['Label'].max()\n",
        "#df_t2['Label'].value_counts()"
      ]
    },
    {
      "cell_type": "code",
      "execution_count": null,
      "metadata": {
        "id": "8sHr85m-qSKA"
      },
      "outputs": [],
      "source": [
        "new_df = pd.read_csv('/content/drive/MyDrive/Emoji_Data(1).csv')"
      ]
    },
    {
      "cell_type": "code",
      "execution_count": null,
      "metadata": {
        "id": "joLrZdyCv5gq"
      },
      "outputs": [],
      "source": [
        "\n",
        "new_df.columns = lst"
      ]
    },
    {
      "cell_type": "code",
      "execution_count": null,
      "metadata": {
        "id": "hnbkgariZcHe"
      },
      "outputs": [],
      "source": [
        "new_df['Label'] = new_df['Label'] + 47"
      ]
    },
    {
      "cell_type": "code",
      "execution_count": null,
      "metadata": {
        "id": "t4geuZNUqs9n"
      },
      "outputs": [],
      "source": [
        "rng = RandomState()\n",
        "newtrain = new_df.sample(frac = 0.8,random_state = rng)\n",
        "newtest = new_df.loc[~new_df.index.isin(newtrain.index)]\n"
      ]
    },
    {
      "cell_type": "code",
      "execution_count": null,
      "metadata": {
        "colab": {
          "base_uri": "https://localhost:8080/"
        },
        "id": "M9QWPsmpsp6Q",
        "outputId": "dadd6680-435f-4e5c-c93b-05ef119dfcd2"
      },
      "outputs": [
        {
          "output_type": "stream",
          "name": "stdout",
          "text": [
            "(33984, 785) (8496, 785)\n"
          ]
        }
      ],
      "source": [
        "print(newtrain.shape,newtest.shape)"
      ]
    },
    {
      "cell_type": "code",
      "execution_count": null,
      "metadata": {
        "id": "HMxM3nqBt0s5"
      },
      "outputs": [],
      "source": [
        "d_train = pd.concat([newtrain,df_2],axis =0)\n",
        "d_test = pd.concat([newtest,df_t2],axis =0)"
      ]
    },
    {
      "cell_type": "code",
      "execution_count": null,
      "metadata": {
        "id": "VYc7GAGXCpYU"
      },
      "outputs": [],
      "source": [
        "del df_2\n",
        "del df_t2\n",
        "del newtrain\n",
        "del newtest"
      ]
    },
    {
      "cell_type": "code",
      "execution_count": null,
      "metadata": {
        "id": "iugXUXmAGQm9"
      },
      "outputs": [],
      "source": [
        "d_train.to_csv('/content/drive/MyDrive/Training_data.csv',index = False)\n",
        "d_test.to_csv('/content/drive/MyDrive/testing_data.csv',index = False)"
      ]
    },
    {
      "cell_type": "code",
      "execution_count": null,
      "metadata": {
        "colab": {
          "base_uri": "https://localhost:8080/"
        },
        "id": "2Tz21-tkutPH",
        "outputId": "7e58f56a-1398-4966-bf87-ef071a4dafa5"
      },
      "outputs": [
        {
          "output_type": "stream",
          "name": "stdout",
          "text": [
            "(146783, 785) (27295, 785)\n"
          ]
        }
      ],
      "source": [
        "print(d_train.shape,d_test.shape)"
      ]
    },
    {
      "cell_type": "code",
      "execution_count": null,
      "metadata": {
        "colab": {
          "base_uri": "https://localhost:8080/"
        },
        "id": "tF8vYirpYMdR",
        "outputId": "6b7cfd9a-8671-456e-e41c-88d0ce4178cc"
      },
      "outputs": [
        {
          "output_type": "execute_result",
          "data": {
            "text/plain": [
              "Label\n",
              "0     2400\n",
              "1     2400\n",
              "2     2400\n",
              "3     2400\n",
              "4     2400\n",
              "5     2400\n",
              "6     2400\n",
              "7     2400\n",
              "8     2400\n",
              "9     2400\n",
              "10    2400\n",
              "11    2400\n",
              "12    2400\n",
              "13    2400\n",
              "14    2400\n",
              "15    2400\n",
              "16    2400\n",
              "17    2400\n",
              "18    2400\n",
              "19    2400\n",
              "20    2400\n",
              "21    2400\n",
              "22    2400\n",
              "23    2400\n",
              "24    2400\n",
              "25    2400\n",
              "26    2400\n",
              "27    2400\n",
              "28    2400\n",
              "29    2400\n",
              "30    2400\n",
              "31    2400\n",
              "32    2400\n",
              "33    2400\n",
              "34    2400\n",
              "35    2400\n",
              "36    2400\n",
              "37    2400\n",
              "38    2400\n",
              "39    2400\n",
              "40    2400\n",
              "41    2400\n",
              "42    2400\n",
              "43    2400\n",
              "44    2400\n",
              "45    2399\n",
              "46    2400\n",
              "47    4791\n",
              "48    4827\n",
              "49    4808\n",
              "50    4890\n",
              "51    5016\n",
              "52    4875\n",
              "53    4777\n",
              "dtype: int64"
            ]
          },
          "metadata": {},
          "execution_count": 229
        }
      ],
      "source": [
        "d_train.groupby(['Label']).size()"
      ]
    },
    {
      "cell_type": "code",
      "execution_count": null,
      "metadata": {
        "colab": {
          "base_uri": "https://localhost:8080/"
        },
        "id": "C6x6Fu021Hls",
        "outputId": "5acc66e9-d40f-45e1-f7bb-6b5638dc3143"
      },
      "outputs": [
        {
          "output_type": "execute_result",
          "data": {
            "text/plain": [
              "Label\n",
              "10    2400\n",
              "11    2400\n",
              "12    2400\n",
              "13    2400\n",
              "14    2400\n",
              "15    2400\n",
              "16    2400\n",
              "17    2400\n",
              "18    2400\n",
              "19    2400\n",
              "20    2400\n",
              "21    2400\n",
              "22    2400\n",
              "23    2400\n",
              "24    2400\n",
              "25    2400\n",
              "26    2400\n",
              "27    2400\n",
              "28    2400\n",
              "29    2400\n",
              "30    2400\n",
              "31    2400\n",
              "32    2400\n",
              "33    2400\n",
              "34    2400\n",
              "35    2400\n",
              "36    2400\n",
              "37    2400\n",
              "38    2400\n",
              "39    2400\n",
              "40    2400\n",
              "41    2400\n",
              "42    2400\n",
              "43    2400\n",
              "44    2400\n",
              "45    2399\n",
              "46    2400\n",
              "47    4791\n",
              "48    4827\n",
              "49    4808\n",
              "50    4890\n",
              "51    5016\n",
              "52    4875\n",
              "53    4777\n",
              "dtype: int64"
            ]
          },
          "metadata": {},
          "execution_count": 230
        }
      ],
      "source": [
        "d_train = d_train[d_train['Label'] >=10]\n",
        "d_test = d_test[d_test['Label'] >=10]\n",
        "d_train.groupby(['Label']).size()"
      ]
    },
    {
      "cell_type": "code",
      "execution_count": null,
      "metadata": {
        "colab": {
          "base_uri": "https://localhost:8080/"
        },
        "id": "0m60CaGq3LpB",
        "outputId": "2caff647-ea92-4185-c516-b70c7e2ac6d7"
      },
      "outputs": [
        {
          "output_type": "stream",
          "name": "stderr",
          "text": [
            "/usr/local/lib/python3.7/dist-packages/ipykernel_launcher.py:1: SettingWithCopyWarning: \n",
            "A value is trying to be set on a copy of a slice from a DataFrame.\n",
            "Try using .loc[row_indexer,col_indexer] = value instead\n",
            "\n",
            "See the caveats in the documentation: https://pandas.pydata.org/pandas-docs/stable/user_guide/indexing.html#returning-a-view-versus-a-copy\n",
            "  \"\"\"Entry point for launching an IPython kernel.\n",
            "/usr/local/lib/python3.7/dist-packages/ipykernel_launcher.py:2: SettingWithCopyWarning: \n",
            "A value is trying to be set on a copy of a slice from a DataFrame.\n",
            "Try using .loc[row_indexer,col_indexer] = value instead\n",
            "\n",
            "See the caveats in the documentation: https://pandas.pydata.org/pandas-docs/stable/user_guide/indexing.html#returning-a-view-versus-a-copy\n",
            "  \n"
          ]
        },
        {
          "output_type": "execute_result",
          "data": {
            "text/plain": [
              "Label\n",
              "0     2400\n",
              "1     2400\n",
              "2     2400\n",
              "3     2400\n",
              "4     2400\n",
              "5     2400\n",
              "6     2400\n",
              "7     2400\n",
              "8     2400\n",
              "9     2400\n",
              "10    2400\n",
              "11    2400\n",
              "12    2400\n",
              "13    2400\n",
              "14    2400\n",
              "15    2400\n",
              "16    2400\n",
              "17    2400\n",
              "18    2400\n",
              "19    2400\n",
              "20    2400\n",
              "21    2400\n",
              "22    2400\n",
              "23    2400\n",
              "24    2400\n",
              "25    2400\n",
              "26    2400\n",
              "27    2400\n",
              "28    2400\n",
              "29    2400\n",
              "30    2400\n",
              "31    2400\n",
              "32    2400\n",
              "33    2400\n",
              "34    2400\n",
              "35    2399\n",
              "36    2400\n",
              "37    4791\n",
              "38    4827\n",
              "39    4808\n",
              "40    4890\n",
              "41    5016\n",
              "42    4875\n",
              "43    4777\n",
              "dtype: int64"
            ]
          },
          "metadata": {},
          "execution_count": 231
        }
      ],
      "source": [
        "d_train['Label'] = d_train['Label'] - 10\n",
        "d_test['Label'] = d_test['Label'] - 10\n",
        "d_train.groupby(['Label']).size()"
      ]
    },
    {
      "cell_type": "code",
      "execution_count": null,
      "metadata": {
        "id": "blZtGF8FPzTV"
      },
      "outputs": [],
      "source": [
        "#training_letters\n",
        "y1 = np.array(d_train.iloc[:,0].values)\n",
        "x1 = np.array(d_train.iloc[:,1:].values)\n",
        "#testing_labels\n",
        "y2 = np.array(d_test.iloc[:,0].values)\n",
        "x2 = np.array(d_test.iloc[:,1:].values)"
      ]
    },
    {
      "cell_type": "code",
      "execution_count": null,
      "metadata": {
        "id": "G8-tJKUQTy5O"
      },
      "outputs": [],
      "source": [
        "del d_train\n",
        "del d_test"
      ]
    },
    {
      "cell_type": "code",
      "execution_count": null,
      "metadata": {
        "colab": {
          "base_uri": "https://localhost:8080/"
        },
        "id": "X3oScU6_QDaW",
        "outputId": "82a1126b-9485-4652-c5aa-84ac19c99679"
      },
      "outputs": [
        {
          "output_type": "stream",
          "name": "stdout",
          "text": [
            "(122783,) (122783, 784)   (23295,) (23295, 784)\n"
          ]
        }
      ],
      "source": [
        "print(y1.shape,x1.shape,\" \",y2.shape,x2.shape)"
      ]
    },
    {
      "cell_type": "code",
      "execution_count": null,
      "metadata": {
        "colab": {
          "base_uri": "https://localhost:8080/",
          "height": 713
        },
        "id": "-xA4JKJaQQ_J",
        "outputId": "b72b13ca-9e2b-40b8-cef6-22ac589749a6"
      },
      "outputs": [
        {
          "output_type": "stream",
          "name": "stdout",
          "text": [
            "label = 30\n",
            "label = 16\n",
            "label = 8\n",
            "label = 0\n",
            "label = 9\n",
            "label = 23\n",
            "label = 12\n",
            "label = 7\n",
            "label = 13\n",
            "label = 21\n",
            "label = 41\n",
            "label = 38\n",
            "label = 39\n",
            "label = 39\n",
            "label = 43\n"
          ]
        },
        {
          "output_type": "display_data",
          "data": {
            "text/plain": [
              "<Figure size 720x576 with 15 Axes>"
            ],
            "image/png": "[encoded data removed]"
          },
          "metadata": {
            "needs_background": "light"
          }
        }
      ],
      "source": [
        "import matplotlib.pyplot as plt \n",
        "fig,axes = plt.subplots(3,5,figsize=(10,8))\n",
        "for i,ax in enumerate(axes.flat):\n",
        "    print('label =',y1[i-10])\n",
        "    ax.imshow(x1[i-10].reshape([28,28]))\n"
      ]
    },
    {
      "cell_type": "code",
      "source": [
        "from keras.preprocessing.image import ImageDataGenerator"
      ],
      "metadata": {
        "id": "ZVuMOsDhT5Bd"
      },
      "execution_count": null,
      "outputs": []
    },
    {
      "cell_type": "code",
      "source": [
        "aug = ImageDataGenerator(\n",
        "        featurewise_center=False,  # set input mean to 0 over the dataset\n",
        "        samplewise_center=False,  # set each sample mean to 0\n",
        "        featurewise_std_normalization=False,  # divide inputs by std of the dataset\n",
        "        samplewise_std_normalization=True,  # divide each input by its std\n",
        "        zca_whitening=False,\n",
        "        rotation_range=3,  # Gira a imagem em 3 graus\n",
        "        zoom_range = 0.1, # Da um zoom na imagem de forma aleatória\n",
        "        width_shift_range=0.1,  # Move a imagem de forma aleatória horizontalmente\n",
        "        height_shift_range=0.1)  # Move a imagem de forma aleatória verticalmente"
      ],
      "metadata": {
        "colab": {
          "base_uri": "https://localhost:8080/"
        },
        "id": "saIutKprTwql",
        "outputId": "fcd4eb99-403d-4789-e8b3-962ea127f2d4"
      },
      "execution_count": null,
      "outputs": [
        {
          "output_type": "stream",
          "name": "stderr",
          "text": [
            "/usr/local/lib/python3.7/dist-packages/keras_preprocessing/image/image_data_generator.py:356: UserWarning: This ImageDataGenerator specifies `samplewise_std_normalization`, which overrides setting of `samplewise_center`.\n",
            "  warnings.warn('This ImageDataGenerator specifies '\n"
          ]
        }
      ]
    },
    {
      "cell_type": "code",
      "execution_count": null,
      "metadata": {
        "id": "mX4J-qUaRJ_o"
      },
      "outputs": [],
      "source": [
        "# Normalise and reshape data\n",
        "train_images = x1\n",
        "test_images = x2\n",
        "\n",
        "train_images_number = train_images.shape[0]\n",
        "train_images_height = 28\n",
        "train_images_width = 28\n",
        "train_images_size = train_images_height*train_images_width\n",
        "\n",
        "train_images = train_images.reshape(train_images_number, train_images_height, train_images_width, 1)\n",
        "\n",
        "test_images_number = test_images.shape[0]\n",
        "test_images_height = 28\n",
        "test_images_width = 28\n",
        "test_images_size = test_images_height*test_images_width\n",
        "\n",
        "test_images = test_images.reshape(test_images_number, test_images_height, test_images_width, 1)\n",
        "\n",
        "#train_images = aug.fit(train_images)\n",
        "#test_images = aug.fit(test_images)"
      ]
    },
    {
      "cell_type": "code",
      "execution_count": null,
      "metadata": {
        "colab": {
          "base_uri": "https://localhost:8080/",
          "height": 282
        },
        "id": "Byv4WFJc2N_E",
        "outputId": "c5cd2e02-53e7-4b7c-dfc6-90eb5e4a07a3"
      },
      "outputs": [
        {
          "output_type": "stream",
          "name": "stdout",
          "text": [
            "label= 40\n"
          ]
        },
        {
          "output_type": "display_data",
          "data": {
            "text/plain": [
              "<Figure size 432x288 with 1 Axes>"
            ],
            "image/png": "[encoded data removed]"
          },
          "metadata": {
            "needs_background": "light"
          }
        }
      ],
      "source": [
        "data_list = train_images[40000]\n",
        "print('label=',y1[4000])\n",
        "np_list = np.array(data_list,np.uint8)\n",
        "np_list= np.reshape(np_list, (28, 28), order='F')\n",
        "plt.imshow(np_list,cmap='gray')\n",
        "plt.show()"
      ]
    },
    {
      "cell_type": "code",
      "execution_count": null,
      "metadata": {
        "id": "lUIpn2c_RVy1"
      },
      "outputs": [],
      "source": [
        "# Transform labels\n",
        "number_of_classes = 44\n",
        "\n",
        "y1 = tf.keras.utils.to_categorical(y1, number_of_classes)\n",
        "y2 = tf.keras.utils.to_categorical(y2, number_of_classes)"
      ]
    },
    {
      "cell_type": "code",
      "execution_count": null,
      "metadata": {
        "id": "JjxBSMxtR12T"
      },
      "outputs": [],
      "source": [
        "from tensorflow.keras.callbacks import EarlyStopping, ReduceLROnPlateau,ModelCheckpoint\n",
        "from sklearn.model_selection import train_test_split"
      ]
    },
    {
      "cell_type": "code",
      "execution_count": null,
      "metadata": {
        "id": "Tec66Gb7R-Za"
      },
      "outputs": [],
      "source": [
        "train_x,test_x,train_y,test_y = train_test_split(train_images,y1,test_size=0.2,random_state = 42)"
      ]
    },
    {
      "cell_type": "code",
      "execution_count": null,
      "metadata": {
        "id": "qvV4K3GTSLZz"
      },
      "outputs": [],
      "source": [
        "model = tf.keras.Sequential([ \n",
        "    #tf.keras.layers.BatchNormalization(),                        \n",
        "    tf.keras.layers.Conv2D(64,3,input_shape=(28,28,1)),\n",
        "    tf.keras.layers.MaxPooling2D(2,2),\n",
        "    #tf.keras.layers.BatchNormalization(), \n",
        "    #tf.keras.layers.Dropout(0.5),\n",
        "    #tf.keras.layers.Conv2D(128,3,activation='relu'),\n",
        "    #tf.keras.layers.MaxPooling2D(2,2),\n",
        "    #tf.keras.layers.BatchNormalization(),\n",
        "    #tf.keras.layers.Dropout(0.5),\n",
        "    #tf.keras.layers.Conv2D(256,3,activation='relu'),\n",
        "    #tf.keras.layers.BatchNormalization(),\n",
        "    #tf.keras.layers.Dropout(0.5),\n",
        "    #tf.keras.layers.MaxPooling2D(2,2),\n",
        "    #tf.keras.layers.Flatten(),\n",
        "    #tf.keras.layers.Conv2D(64,3,activation='relu'),\n",
        "    #tf.keras.layers.BatchNormalization(),\n",
        "    #tf.keras.layers.Conv2D(64,3,activation='relu'),\n",
        "    #tf.keras.layers.BatchNormalization(),\n",
        "    #tf.keras.layers.Conv2D(64,5,strides=2,padding='same',activation='relu'),\n",
        "    #tf.keras.layers.BatchNormalization(),\n",
        "    #tf.keras.layers.Dropout(0.4),\n",
        "    tf.keras.layers.Flatten(input_shape=(28,28,1)),\n",
        "    tf.keras.layers.Dense(units=512,activation='relu'),\n",
        "    tf.keras.layers.Dense(units=128,activation='relu'),\n",
        "    #tf.keras.layers.Dropout(0.3),\n",
        "    tf.keras.layers.Dense(number_of_classes,activation='softmax')\n",
        "])"
      ]
    },
    {
      "cell_type": "code",
      "execution_count": null,
      "metadata": {
        "id": "cDDwWpI9SUBF"
      },
      "outputs": [],
      "source": [
        "model.compile(optimizer='adam',loss='categorical_crossentropy',metrics=['accuracy'])"
      ]
    },
    {
      "cell_type": "code",
      "execution_count": null,
      "metadata": {
        "colab": {
          "base_uri": "https://localhost:8080/"
        },
        "id": "W-7MDCs14Kmj",
        "outputId": "d078fb9f-f9d4-4135-d49d-c296a0106aab"
      },
      "outputs": [
        {
          "output_type": "stream",
          "name": "stdout",
          "text": [
            "Model: \"sequential_9\"\n",
            "_________________________________________________________________\n",
            " Layer (type)                Output Shape              Param #   \n",
            "=================================================================\n",
            " conv2d_15 (Conv2D)          (None, 26, 26, 64)        640       \n",
            "                                                                 \n",
            " max_pooling2d_15 (MaxPoolin  (None, 13, 13, 64)       0         \n",
            " g2D)                                                            \n",
            "                                                                 \n",
            " flatten_9 (Flatten)         (None, 10816)             0         \n",
            "                                                                 \n",
            " dense_27 (Dense)            (None, 512)               5538304   \n",
            "                                                                 \n",
            " dense_28 (Dense)            (None, 128)               65664     \n",
            "                                                                 \n",
            " dense_29 (Dense)            (None, 44)                5676      \n",
            "                                                                 \n",
            "=================================================================\n",
            "Total params: 5,610,284\n",
            "Trainable params: 5,610,284\n",
            "Non-trainable params: 0\n",
            "_________________________________________________________________\n"
          ]
        }
      ],
      "source": [
        "model.summary()"
      ]
    },
    {
      "cell_type": "code",
      "execution_count": null,
      "metadata": {
        "id": "7WWJQR-sSXQs"
      },
      "outputs": [],
      "source": [
        " \n",
        "MCP = ModelCheckpoint('Best_points.h5',verbose=1,save_best_only=True,monitor='val_accuracy',mode='max')\n",
        "ES = EarlyStopping(monitor='val_accuracy',min_delta=0,verbose=0,restore_best_weights = True,patience=3,mode='max')\n",
        "RLP = ReduceLROnPlateau(monitor='val_loss',patience=3,factor=0.2,min_lr=0.0001)"
      ]
    },
    {
      "cell_type": "code",
      "source": [
        "aug_norm =ImageDataGenerator(\n",
        "        samplewise_std_normalization=True,  ) "
      ],
      "metadata": {
        "colab": {
          "base_uri": "https://localhost:8080/"
        },
        "id": "8eJURHTAdPfu",
        "outputId": "73ce53f0-9832-48dc-ac45-a1d0d7ead676"
      },
      "execution_count": null,
      "outputs": [
        {
          "output_type": "stream",
          "name": "stderr",
          "text": [
            "/usr/local/lib/python3.7/dist-packages/keras_preprocessing/image/image_data_generator.py:356: UserWarning: This ImageDataGenerator specifies `samplewise_std_normalization`, which overrides setting of `samplewise_center`.\n",
            "  warnings.warn('This ImageDataGenerator specifies '\n"
          ]
        }
      ]
    },
    {
      "cell_type": "code",
      "source": [
        "aug.fit(train_x)\n",
        "aug_norm.fit(test_x)\n"
      ],
      "metadata": {
        "id": "QJ9fgstdV6Xv"
      },
      "execution_count": null,
      "outputs": []
    },
    {
      "cell_type": "code",
      "execution_count": null,
      "metadata": {
        "colab": {
          "base_uri": "https://localhost:8080/"
        },
        "id": "cjR1FUhjSfzD",
        "outputId": "10e0030e-1985-4903-841c-1267ca11c7d7"
      },
      "outputs": [
        {
          "output_type": "stream",
          "name": "stdout",
          "text": [
            "Epoch 1/20\n",
            "3068/3070 [============================>.] - ETA: 0s - loss: 0.8568 - accuracy: 0.7466\n",
            "Epoch 1: val_accuracy improved from -inf to 0.70913, saving model to Best_points.h5\n",
            "3070/3070 [==============================] - 75s 24ms/step - loss: 0.8565 - accuracy: 0.7467 - val_loss: 46.2418 - val_accuracy: 0.7091 - lr: 0.0010\n",
            "Epoch 2/20\n",
            "3070/3070 [==============================] - ETA: 0s - loss: 0.4708 - accuracy: 0.8501\n",
            "Epoch 2: val_accuracy improved from 0.70913 to 0.78401, saving model to Best_points.h5\n",
            "3070/3070 [==============================] - 75s 25ms/step - loss: 0.4708 - accuracy: 0.8501 - val_loss: 36.8719 - val_accuracy: 0.7840 - lr: 0.0010\n",
            "Epoch 3/20\n",
            "3069/3070 [============================>.] - ETA: 0s - loss: 0.4088 - accuracy: 0.8687\n",
            "Epoch 3: val_accuracy improved from 0.78401 to 0.80910, saving model to Best_points.h5\n",
            "3070/3070 [==============================] - 73s 24ms/step - loss: 0.4088 - accuracy: 0.8687 - val_loss: 28.8838 - val_accuracy: 0.8091 - lr: 0.0010\n",
            "Epoch 4/20\n",
            "3069/3070 [============================>.] - ETA: 0s - loss: 0.3786 - accuracy: 0.8770\n",
            "Epoch 4: val_accuracy improved from 0.80910 to 0.84249, saving model to Best_points.h5\n",
            "3070/3070 [==============================] - 73s 24ms/step - loss: 0.3786 - accuracy: 0.8771 - val_loss: 22.5357 - val_accuracy: 0.8425 - lr: 0.0010\n",
            "Epoch 5/20\n",
            "3068/3070 [============================>.] - ETA: 0s - loss: 0.3593 - accuracy: 0.8841\n",
            "Epoch 5: val_accuracy did not improve from 0.84249\n",
            "3070/3070 [==============================] - 70s 23ms/step - loss: 0.3593 - accuracy: 0.8841 - val_loss: 37.8469 - val_accuracy: 0.7857 - lr: 0.0010\n",
            "Epoch 6/20\n",
            "3068/3070 [============================>.] - ETA: 0s - loss: 0.3448 - accuracy: 0.8893\n",
            "Epoch 6: val_accuracy improved from 0.84249 to 0.87792, saving model to Best_points.h5\n",
            "3070/3070 [==============================] - 72s 24ms/step - loss: 0.3449 - accuracy: 0.8893 - val_loss: 17.1066 - val_accuracy: 0.8779 - lr: 0.0010\n",
            "Epoch 7/20\n",
            "3070/3070 [==============================] - ETA: 0s - loss: 0.3337 - accuracy: 0.8909\n",
            "Epoch 7: val_accuracy did not improve from 0.87792\n",
            "3070/3070 [==============================] - 71s 23ms/step - loss: 0.3337 - accuracy: 0.8909 - val_loss: 30.0431 - val_accuracy: 0.8298 - lr: 0.0010\n",
            "Epoch 8/20\n",
            "3070/3070 [==============================] - ETA: 0s - loss: 0.3212 - accuracy: 0.8956\n",
            "Epoch 8: val_accuracy did not improve from 0.87792\n",
            "3070/3070 [==============================] - 76s 25ms/step - loss: 0.3212 - accuracy: 0.8956 - val_loss: 18.5839 - val_accuracy: 0.8686 - lr: 0.0010\n",
            "Epoch 9/20\n",
            "3069/3070 [============================>.] - ETA: 0s - loss: 0.3121 - accuracy: 0.8980\n",
            "Epoch 9: val_accuracy did not improve from 0.87792\n",
            "3070/3070 [==============================] - 74s 24ms/step - loss: 0.3121 - accuracy: 0.8980 - val_loss: 20.9457 - val_accuracy: 0.8672 - lr: 0.0010\n"
          ]
        }
      ],
      "source": [
        "history = model.fit(aug.flow(train_x,train_y),epochs=20,validation_data=(test_x,test_y),callbacks=[MCP,ES,RLP])"
      ]
    },
    {
      "cell_type": "code",
      "execution_count": null,
      "metadata": {
        "colab": {
          "base_uri": "https://localhost:8080/",
          "height": 296
        },
        "id": "BvgB9m762WPG",
        "outputId": "25df0410-f749-4a22-837e-9f8ecf1b41ea"
      },
      "outputs": [
        {
          "output_type": "execute_result",
          "data": {
            "text/plain": [
              "Text(0, 0.5, 'Accuray')"
            ]
          },
          "metadata": {},
          "execution_count": 250
        },
        {
          "output_type": "display_data",
          "data": {
            "text/plain": [
              "<Figure size 432x288 with 1 Axes>"
            ],
            "image/png": "[encoded data removed]"
          },
          "metadata": {
            "needs_background": "light"
          }
        }
      ],
      "source": [
        "import seaborn as sns\n",
        "q = len(history.history['accuracy'])\n",
        "\n",
        "plt.figsize=(10,10)\n",
        "sns.lineplot(x = range(1,1+q),y = history.history['accuracy'], label='Accuracy')\n",
        "sns.lineplot(x = range(1,1+q),y = history.history['val_accuracy'], label='Val_Accuracy')\n",
        "plt.xlabel('epochs')\n",
        "plt.ylabel('Accuray')"
      ]
    },
    {
      "cell_type": "code",
      "source": [
        "score = model.evaluate(test_images, y2, verbose = 0) \n",
        "print('Score:',score)"
      ],
      "metadata": {
        "colab": {
          "base_uri": "https://localhost:8080/"
        },
        "id": "qsQjEJrOPr-c",
        "outputId": "0c4463bf-aaa5-4928-842a-e0d8b97a8de7"
      },
      "execution_count": null,
      "outputs": [
        {
          "output_type": "stream",
          "name": "stdout",
          "text": [
            "Score: [16.36644172668457, 0.882979154586792]\n"
          ]
        }
      ]
    },
    {
      "cell_type": "code",
      "execution_count": null,
      "metadata": {
        "id": "7uBUTt-lkCh6"
      },
      "outputs": [],
      "source": [
        "model.save('/content/drive/MyDrive/model_4.h5')\n",
        "del model"
      ]
    }
  ],
  "metadata": {
    "accelerator": "GPU",
    "colab": {
      "collapsed_sections": [],
      "name": "Untitled0(1).ipynb",
      "provenance": []
    },
    "kernelspec": {
      "display_name": "Python 3",
      "name": "python3"
    },
    "language_info": {
      "name": "python"
    }
  },
  "nbformat": 4,
  "nbformat_minor": 0
}